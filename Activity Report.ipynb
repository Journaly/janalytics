{
 "cells": [
  {
   "cell_type": "code",
   "execution_count": 14,
   "metadata": {},
   "outputs": [],
   "source": [
    "import os\n",
    "from datetime import datetime, timedelta\n",
    "from contextlib import contextmanager\n",
    "from collections import defaultdict\n",
    "\n",
    "import psycopg2\n",
    "import matplotlib.pyplot as plt\n",
    "\n",
    "@contextmanager\n",
    "def get_cursor():\n",
    "    conn = psycopg2.connect(os.environ['DATABASE_URL'])\n",
    "    cur = conn.cursor()\n",
    "    \n",
    "    try:\n",
    "        yield cur\n",
    "    finally:\n",
    "        cur.close()\n",
    "        conn.close()\n",
    "        \n",
    "def transpose(rows):\n",
    "    values = tuple([[] for _ in range(len(rows[0]))])\n",
    "    for row in rows:\n",
    "        for idx, cell in enumerate(row):\n",
    "            values[idx].append(cell)\n",
    "            \n",
    "    return values\n",
    "\n",
    "def union_timeseries(*timeseries):\n",
    "    unified_dict = defaultdict(lambda: [0 for _ in range(len(timeseries))])\n",
    "    for tidx, ts in enumerate(timeseries):\n",
    "        for date, value in ts:\n",
    "            unified_dict[date][tidx] = value\n",
    "        \n",
    "    return sorted([(date, *values) for date, values in unified_dict.items()])\n",
    "                \n",
    "    \n",
    "\n"
   ]
  },
  {
   "cell_type": "code",
   "execution_count": 4,
   "metadata": {},
   "outputs": [],
   "source": [
    "# Number of days into the past to run timeseries reports for\n",
    "TIME_PERIOD = timedelta(days=30)"
   ]
  },
  {
   "cell_type": "code",
   "execution_count": 2,
   "metadata": {},
   "outputs": [
    {
     "name": "stdout",
     "output_type": "stream",
     "text": [
      "Total posts: 293\n",
      "Total users: 519\n"
     ]
    }
   ],
   "source": [
    "with get_cursor() as cur:\n",
    "    cur.execute('SELECT COUNT(*) FROM \"Post\";')\n",
    "    print('Total posts: %d' % cur.fetchone())\n",
    "\n",
    "    cur.execute('SELECT COUNT(*) FROM \"User\";')\n",
    "    print('Total users: %d' % cur.fetchone()) "
   ]
  },
  {
   "cell_type": "code",
   "execution_count": 12,
   "metadata": {
    "scrolled": true
   },
   "outputs": [
    {
     "data": {
      "image/png": "[encoded data removed]",
      "text/plain": [
       "<Figure size 1080x360 with 1 Axes>"
      ]
     },
     "metadata": {
      "needs_background": "light"
     },
     "output_type": "display_data"
    }
   ],
   "source": [
    "with get_cursor() as cur:\n",
    "    cur.execute('''\n",
    "        SELECT \"createdAt\"::DATE as date, COUNT(*) FROM \"Post\"\n",
    "        WHERE \"Post\".\"createdAt\" > %s\n",
    "        GROUP BY date\n",
    "        ORDER BY date;\n",
    "    ''', (datetime.utcnow() - TIME_PERIOD,))\n",
    "    rows = cur.fetchall()\n",
    "\n",
    "    dates, post_counts = transpose(rows)\n",
    "\n",
    "    fig = plt.figure(figsize=(15,5))\n",
    "    plt.subplot(1,1,1)\n",
    "    plt.title('Posts per day (last %d)' % TIME_PERIOD.days)\n",
    "    plt.xlabel('Date')\n",
    "    plt.ylabel('Posts')\n",
    "    plt.bar(dates, post_counts)\n",
    "    plt.show()\n"
   ]
  },
  {
   "cell_type": "code",
   "execution_count": null,
   "metadata": {},
   "outputs": [
    {
     "name": "stderr",
     "output_type": "stream",
     "text": [
      "No handles with labels found to put in legend.\n"
     ]
    }
   ],
   "source": [
    "with get_cursor() as cur:\n",
    "    cur.execute('''\n",
    "        SELECT \"createdAt\"::DATE as date, COUNT(*) FROM \"Comment\"\n",
    "        WHERE \"Comment\".\"createdAt\" > %s\n",
    "        GROUP BY date\n",
    "        ORDER BY date;\n",
    "    ''', (datetime.utcnow() - TIME_PERIOD,))\n",
    "    comment_rows = cur.fetchall()\n",
    "    \n",
    "    cur.execute('''\n",
    "        SELECT \"createdAt\"::DATE as date, COUNT(*) FROM \"PostComment\"\n",
    "        WHERE \"PostComment\".\"createdAt\" > %s\n",
    "        GROUP BY date\n",
    "        ORDER BY date;\n",
    "    ''', (datetime.utcnow() - TIME_PERIOD,))\n",
    "    post_comment_rows = cur.fetchall()\n",
    "\n",
    "    dates, comment_counts, post_comment_counts = transpose(union_timeseries(comment_rows, post_comment_rows))\n",
    "\n",
    "    fig = plt.figure(figsize=(15,5))\n",
    "    plt.subplot(1,1,1)\n",
    "    plt.title('Comments and Post Comments per day (last %d)' % TIME_PERIOD.days)\n",
    "    plt.xlabel('Date')\n",
    "    plt.legend(loc=\"upper left\")\n",
    "    \n",
    "    plt.bar(dates, post_comment_counts, bottom=comment_counts, label='Post Comments')\n",
    "    plt.bar(dates, comment_counts, label='Comments')\n",
    "\n",
    "    plt.show()"
   ]
  },
  {
   "cell_type": "code",
   "execution_count": null,
   "metadata": {},
   "outputs": [],
   "source": []
  }
 ],
 "metadata": {
  "kernelspec": {
   "display_name": "Python 3",
   "language": "python",
   "name": "python3"
  },
  "language_info": {
   "codemirror_mode": {
    "name": "ipython",
    "version": 3
   },
   "file_extension": ".py",
   "mimetype": "text/x-python",
   "name": "python",
   "nbconvert_exporter": "python",
   "pygments_lexer": "ipython3",
   "version": "3.7.5"
  }
 },
 "nbformat": 4,
 "nbformat_minor": 4
}
